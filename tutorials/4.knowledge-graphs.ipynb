{
 "cells": [
  {
   "cell_type": "markdown",
   "metadata": {},
   "source": [
    "# Knowledge Graphs for Complex Topics"
   ]
  },
  {
   "cell_type": "markdown",
   "metadata": {},
   "source": [
    "# Introduction\n",
    "\n",
    "**What is a knowledge graph?**\n",
    "\n",
    "A knowledge graph, also known as a semantic network, represents real-world entities and their relationships. It consists of nodes, edges, and labels. Nodes can represent any entity, while edges define the connections between them. For example, a node representing an author like \"J.K. Rowling\" can be connected to another node representing one of her books, \"Harry Potter\", with the edge \"author of\".\n",
    "\n",
    "**Applications of knowledge graphs**\n",
    "\n",
    "Knowledge graphs have various applications, including:\n",
    "\n",
    "-  Search Engines: They enhance search results by incorporating semantic-search information from diverse sources.\n",
    "-  Recommendation Systems: They suggest products or services based on user behavior and preferences.\n",
    "-  Natural Language Processing: They aid in understanding and generating human language.\n",
    "-  Data Integration: They facilitate the integration of data from different sources by identifying relationships.\n",
    "-  Artificial Intelligence and Machine Learning: They provide contextual information to improve decision-making."
   ]
  },
  {
   "cell_type": "markdown",
   "metadata": {},
   "source": [
    "----"
   ]
  },
  {
   "cell_type": "markdown",
   "metadata": {},
   "source": [
    "## Setup and Dependencies"
   ]
  },
  {
   "cell_type": "markdown",
   "metadata": {},
   "source": [
    "Today, we're going to use the [`instructor`](https://github.com/jxnl/instructor) library to simplify the interaction between OpenAI and our code. Along with [Graphviz](https://graphviz.org) library to bring structure to our intricate subjects and have a graph visualization.\n"
   ]
  },
  {
   "cell_type": "code",
   "execution_count": 6,
   "metadata": {},
   "outputs": [],
   "source": [
    "!pip install instructor graphviz --quiet"
   ]
  },
  {
   "cell_type": "code",
   "execution_count": 7,
   "metadata": {},
   "outputs": [],
   "source": [
    "import instructor \n",
    "from openai import OpenAI\n",
    "\n",
    "client = instructor.patch(OpenAI())"
   ]
  },
  {
   "cell_type": "markdown",
   "metadata": {},
   "source": [
    "Install the Graphviz based on your operation system https://graphviz.org/download/"
   ]
  },
  {
   "cell_type": "markdown",
   "metadata": {},
   "source": [
    "## Node and Edge Classes\n",
    "\n",
    "We begin by modeling our knowledge graph with Node and Edge objects.\n",
    "\n",
    "Node objects represent key concepts or entities, while Edge objects signify the relationships between them."
   ]
  },
  {
   "cell_type": "code",
   "execution_count": 14,
   "metadata": {},
   "outputs": [],
   "source": [
    "from pydantic import BaseModel, Field\n",
    "from typing import List, Optional\n",
    "\n",
    "class Node(BaseModel):\n",
    "    id: int\n",
    "    label: str\n",
    "    color: str\n",
    "\n",
    "class Edge(BaseModel):\n",
    "    source: int\n",
    "    target: int\n",
    "    label: str\n",
    "    color: str = \"black\""
   ]
  },
  {
   "cell_type": "markdown",
   "metadata": {},
   "source": [
    "## `KnowledgeGraph` Class"
   ]
  },
  {
   "cell_type": "markdown",
   "metadata": {},
   "source": [
    "The `KnowledgeGraph` class combines nodes and edges to create a comprehensive graph structure. It includes lists of nodes and edges, where each node represents a key concept or entity, and each edge represents a relationship between two nodes.\n",
    "\n",
    "Later on, you'll see that we designed this class to match the graph object in the graphviz library, which makes it easier to visualize our graph.\n",
    "\n",
    "The `visualize_knowledge_graph` function is used to visualize a knowledge graph. It takes a `KnowledgeGraph` object as input, which contains nodes and edges. The function utilizes the `graphviz` library to generate a directed graph (`Digraph`). Each node and edge from the `KnowledgeGraph` is added to the `Digraph` with their respective attributes (id, label, color). Finally, the graph is rendered and displayed."
   ]
  },
  {
   "cell_type": "code",
   "execution_count": 15,
   "metadata": {},
   "outputs": [],
   "source": [
    "from graphviz import Digraph\n",
    "from IPython.display import display\n",
    "\n",
    "class KnowledgeGraph(BaseModel):\n",
    "    nodes: List[Node] = Field(..., default_factory=list)  # A list of nodes in the knowledge graph.\n",
    "    edges: List[Edge] = Field(..., default_factory=list)  # A list of edges in the knowledge graph.\n",
    "\n",
    "\n",
    "    def visualize_knowledge_graph(self):\n",
    "        dot = Digraph(comment=\"Knowledge Graph\")\n",
    "\n",
    "        for node in self.nodes:\n",
    "            dot.node(name=str(node.id), label=node.label, color=node.color)\n",
    "        for edge in self.edges:\n",
    "            dot.edge(str(edge.source), str(edge.target), label=edge.label, color=edge.color)\n",
    "        \n",
    "        return display(dot)\n"
   ]
  },
  {
   "cell_type": "markdown",
   "metadata": {},
   "source": [
    "## Generating the Knowledge Graph\n",
    "\n",
    "### generate_graph function\n",
    "\n",
    "The ``generate_graph`` function uses OpenAI's model to create a KnowledgeGraph object from an input string.\n",
    "\n",
    "It requests the model to interpret the input as a detailed knowledge graph and uses the response to form the KnowledgeGraph object."
   ]
  },
  {
   "cell_type": "code",
   "execution_count": 12,
   "metadata": {},
   "outputs": [],
   "source": [
    "def generate_graph(input) -> KnowledgeGraph:\n",
    "    return client.chat.completions.create(\n",
    "        model=\"gpt-3.5-turbo\",\n",
    "        messages=[\n",
    "            {\n",
    "                \"role\": \"user\",\n",
    "                \"content\": f\"Help me understand the following by describing it as a detailed knowledge graph: {input}\",\n",
    "            }\n",
    "        ],\n",
    "        response_model=KnowledgeGraph,\n",
    "    )"
   ]
  },
  {
   "cell_type": "code",
   "execution_count": 13,
   "metadata": {},
   "outputs": [
    {
     "data": {
      "image/svg+xml": [
       "<?xml version=\"1.0\" encoding=\"UTF-8\" standalone=\"no\"?>\n",
       "<!DOCTYPE svg PUBLIC \"-//W3C//DTD SVG 1.1//EN\"\n",
       " \"http://www.w3.org/Graphics/SVG/1.1/DTD/svg11.dtd\">\n",
       "<!-- Generated by graphviz version 9.0.0 (20230911.1827)\n",
       " -->\n",
       "<!-- Pages: 1 -->\n",
       "<svg width=\"574pt\" height=\"398pt\"\n",
       " viewBox=\"0.00 0.00 574.32 398.00\" xmlns=\"http://www.w3.org/2000/svg\" xmlns:xlink=\"http://www.w3.org/1999/xlink\">\n",
       "<g id=\"graph0\" class=\"graph\" transform=\"scale(1 1) rotate(0) translate(4 394)\">\n",
       "<polygon fill=\"white\" stroke=\"none\" points=\"-4,4 -4,-394 570.32,-394 570.32,4 -4,4\"/>\n",
       "<!-- 1 -->\n",
       "<g id=\"node1\" class=\"node\">\n",
       "<title>1</title>\n",
       "<ellipse fill=\"none\" stroke=\"#4287f5\" cx=\"90.76\" cy=\"-372\" rx=\"90.76\" ry=\"18\"/>\n",
       "<text text-anchor=\"middle\" x=\"90.76\" y=\"-366.95\" font-family=\"Times,serif\" font-size=\"14.00\">Artificial Intelligence</text>\n",
       "</g>\n",
       "<!-- 2 -->\n",
       "<g id=\"node2\" class=\"node\">\n",
       "<title>2</title>\n",
       "<ellipse fill=\"none\" stroke=\"#4287f5\" cx=\"90.76\" cy=\"-283.5\" rx=\"79.5\" ry=\"18\"/>\n",
       "<text text-anchor=\"middle\" x=\"90.76\" y=\"-278.45\" font-family=\"Times,serif\" font-size=\"14.00\">Machine Learning</text>\n",
       "</g>\n",
       "<!-- 1&#45;&gt;2 -->\n",
       "<g id=\"edge1\" class=\"edge\">\n",
       "<title>1&#45;&gt;2</title>\n",
       "<path fill=\"none\" stroke=\"#f5b542\" d=\"M90.76,-353.91C90.76,-342.26 90.76,-326.55 90.76,-313.02\"/>\n",
       "<polygon fill=\"#f5b542\" stroke=\"#f5b542\" points=\"94.26,-313.36 90.76,-303.36 87.26,-313.36 94.26,-313.36\"/>\n",
       "<text text-anchor=\"middle\" x=\"126.39\" y=\"-322.7\" font-family=\"Times,serif\" font-size=\"14.00\">is a subset of</text>\n",
       "</g>\n",
       "<!-- 3 -->\n",
       "<g id=\"node3\" class=\"node\">\n",
       "<title>3</title>\n",
       "<ellipse fill=\"none\" stroke=\"#4287f5\" cx=\"90.76\" cy=\"-195\" rx=\"66.19\" ry=\"18\"/>\n",
       "<text text-anchor=\"middle\" x=\"90.76\" y=\"-189.95\" font-family=\"Times,serif\" font-size=\"14.00\">Deep Learning</text>\n",
       "</g>\n",
       "<!-- 2&#45;&gt;3 -->\n",
       "<g id=\"edge2\" class=\"edge\">\n",
       "<title>2&#45;&gt;3</title>\n",
       "<path fill=\"none\" stroke=\"#f5b542\" d=\"M90.76,-265.41C90.76,-253.76 90.76,-238.05 90.76,-224.52\"/>\n",
       "<polygon fill=\"#f5b542\" stroke=\"#f5b542\" points=\"94.26,-224.86 90.76,-214.86 87.26,-224.86 94.26,-224.86\"/>\n",
       "<text text-anchor=\"middle\" x=\"126.39\" y=\"-234.2\" font-family=\"Times,serif\" font-size=\"14.00\">is a subset of</text>\n",
       "</g>\n",
       "<!-- 4 -->\n",
       "<g id=\"node4\" class=\"node\">\n",
       "<title>4</title>\n",
       "<ellipse fill=\"none\" stroke=\"#4287f5\" cx=\"296.76\" cy=\"-106.5\" rx=\"70.8\" ry=\"18\"/>\n",
       "<text text-anchor=\"middle\" x=\"296.76\" y=\"-101.45\" font-family=\"Times,serif\" font-size=\"14.00\">Neural Network</text>\n",
       "</g>\n",
       "<!-- 3&#45;&gt;4 -->\n",
       "<g id=\"edge3\" class=\"edge\">\n",
       "<title>3&#45;&gt;4</title>\n",
       "<path fill=\"none\" stroke=\"#f5b542\" d=\"M115.72,-178.06C133.76,-167.02 159,-152.56 182.51,-142.5 199.88,-135.06 219.36,-128.49 237.24,-123.1\"/>\n",
       "<polygon fill=\"#f5b542\" stroke=\"#f5b542\" points=\"238.07,-126.51 246.68,-120.33 236.1,-119.79 238.07,-126.51\"/>\n",
       "<text text-anchor=\"middle\" x=\"218.39\" y=\"-145.7\" font-family=\"Times,serif\" font-size=\"14.00\">is a subset of</text>\n",
       "</g>\n",
       "<!-- 8 -->\n",
       "<g id=\"node8\" class=\"node\">\n",
       "<title>8</title>\n",
       "<ellipse fill=\"none\" stroke=\"#90caf9\" cx=\"224.76\" cy=\"-18\" rx=\"41.63\" ry=\"18\"/>\n",
       "<text text-anchor=\"middle\" x=\"224.76\" y=\"-12.95\" font-family=\"Times,serif\" font-size=\"14.00\">Weights</text>\n",
       "</g>\n",
       "<!-- 4&#45;&gt;8 -->\n",
       "<g id=\"edge7\" class=\"edge\">\n",
       "<title>4&#45;&gt;8</title>\n",
       "<path fill=\"none\" stroke=\"#f54242\" d=\"M282.54,-88.41C272.05,-75.81 257.61,-58.46 245.79,-44.26\"/>\n",
       "<polygon fill=\"#f54242\" stroke=\"#f54242\" points=\"248.52,-42.08 239.44,-36.63 243.14,-46.56 248.52,-42.08\"/>\n",
       "<text text-anchor=\"middle\" x=\"276.76\" y=\"-57.2\" font-family=\"Times,serif\" font-size=\"14.00\">has</text>\n",
       "</g>\n",
       "<!-- 9 -->\n",
       "<g id=\"node9\" class=\"node\">\n",
       "<title>9</title>\n",
       "<ellipse fill=\"none\" stroke=\"#90caf9\" cx=\"369.76\" cy=\"-18\" rx=\"85.13\" ry=\"18\"/>\n",
       "<text text-anchor=\"middle\" x=\"369.76\" y=\"-12.95\" font-family=\"Times,serif\" font-size=\"14.00\">Activation Function</text>\n",
       "</g>\n",
       "<!-- 4&#45;&gt;9 -->\n",
       "<g id=\"edge8\" class=\"edge\">\n",
       "<title>4&#45;&gt;9</title>\n",
       "<path fill=\"none\" stroke=\"#f54242\" d=\"M311.18,-88.41C321.68,-75.97 336.08,-58.91 347.98,-44.81\"/>\n",
       "<polygon fill=\"#f54242\" stroke=\"#f54242\" points=\"350.62,-47.11 354.39,-37.21 345.27,-42.6 350.62,-47.11\"/>\n",
       "<text text-anchor=\"middle\" x=\"351.39\" y=\"-57.2\" font-family=\"Times,serif\" font-size=\"14.00\">uses</text>\n",
       "</g>\n",
       "<!-- 5 -->\n",
       "<g id=\"node5\" class=\"node\">\n",
       "<title>5</title>\n",
       "<ellipse fill=\"none\" stroke=\"#90caf9\" cx=\"229.76\" cy=\"-195\" rx=\"54.42\" ry=\"18\"/>\n",
       "<text text-anchor=\"middle\" x=\"229.76\" y=\"-189.95\" font-family=\"Times,serif\" font-size=\"14.00\">Input Layer</text>\n",
       "</g>\n",
       "<!-- 5&#45;&gt;4 -->\n",
       "<g id=\"edge4\" class=\"edge\">\n",
       "<title>5&#45;&gt;4</title>\n",
       "<path fill=\"none\" stroke=\"#f54242\" d=\"M242.68,-177.32C252.35,-164.84 265.75,-147.53 276.8,-133.27\"/>\n",
       "<polygon fill=\"#f54242\" stroke=\"#f54242\" points=\"279.37,-135.67 282.73,-125.62 273.84,-131.38 279.37,-135.67\"/>\n",
       "<text text-anchor=\"middle\" x=\"278.76\" y=\"-145.7\" font-family=\"Times,serif\" font-size=\"14.00\">has</text>\n",
       "</g>\n",
       "<!-- 6 -->\n",
       "<g id=\"node6\" class=\"node\">\n",
       "<title>6</title>\n",
       "<ellipse fill=\"none\" stroke=\"#90caf9\" cx=\"364.76\" cy=\"-195\" rx=\"62.1\" ry=\"18\"/>\n",
       "<text text-anchor=\"middle\" x=\"364.76\" y=\"-189.95\" font-family=\"Times,serif\" font-size=\"14.00\">Hidden Layer</text>\n",
       "</g>\n",
       "<!-- 6&#45;&gt;4 -->\n",
       "<g id=\"edge5\" class=\"edge\">\n",
       "<title>6&#45;&gt;4</title>\n",
       "<path fill=\"none\" stroke=\"#f54242\" d=\"M351.65,-177.32C341.84,-164.84 328.23,-147.53 317.02,-133.27\"/>\n",
       "<polygon fill=\"#f54242\" stroke=\"#f54242\" points=\"319.93,-131.31 311,-125.61 314.43,-135.64 319.93,-131.31\"/>\n",
       "<text text-anchor=\"middle\" x=\"345.76\" y=\"-145.7\" font-family=\"Times,serif\" font-size=\"14.00\">has</text>\n",
       "</g>\n",
       "<!-- 7 -->\n",
       "<g id=\"node7\" class=\"node\">\n",
       "<title>7</title>\n",
       "<ellipse fill=\"none\" stroke=\"#90caf9\" cx=\"505.76\" cy=\"-195\" rx=\"60.56\" ry=\"18\"/>\n",
       "<text text-anchor=\"middle\" x=\"505.76\" y=\"-189.95\" font-family=\"Times,serif\" font-size=\"14.00\">Output Layer</text>\n",
       "</g>\n",
       "<!-- 7&#45;&gt;4 -->\n",
       "<g id=\"edge6\" class=\"edge\">\n",
       "<title>7&#45;&gt;4</title>\n",
       "<path fill=\"none\" stroke=\"#f54242\" d=\"M471.72,-179.91C436.72,-165.43 381.99,-142.77 343.07,-126.67\"/>\n",
       "<polygon fill=\"#f54242\" stroke=\"#f54242\" points=\"344.52,-123.48 333.94,-122.89 341.84,-129.95 344.52,-123.48\"/>\n",
       "<text text-anchor=\"middle\" x=\"428.76\" y=\"-145.7\" font-family=\"Times,serif\" font-size=\"14.00\">has</text>\n",
       "</g>\n",
       "</g>\n",
       "</svg>\n"
      ],
      "text/plain": [
       "<graphviz.graphs.Digraph at 0x10ccdf510>"
      ]
     },
     "metadata": {},
     "output_type": "display_data"
    }
   ],
   "source": [
    "generate_graph(\"Explain the concept of a neural network.\").visualize_knowledge_graph()"
   ]
  },
  {
   "cell_type": "markdown",
   "metadata": {},
   "source": [
    "## Advanced: Accumulating Knowledge Graphs\n",
    "\n",
    "When dealing with larger datasets, or knowledge that grows over time, processing them all at once can be challenging due to limitations in prompt length or the complexity of the content. In such cases, an iterative approach to building the knowledge graph can be beneficial. This method involves processing the text in smaller, manageable chunks and updating the graph with new information from each chunk.\n",
    "\n",
    "### What are the benefits of this approach?\n",
    "\n",
    "-  Scalability: This approach can handle large datasets by breaking them down into smaller, more manageable pieces.\n",
    "\n",
    "-  Flexibility: It allows for dynamic updates to the graph, accommodating new information as it becomes available.\n",
    "\n",
    "-  Efficiency: Processing smaller chunks of text can be more efficient and less prone to errors or omissions."
   ]
  },
  {
   "cell_type": "markdown",
   "metadata": {},
   "source": [
    "### What has changed?\n",
    "\n",
    "The previous example provided a basic structure, while this new example introduces additional complexity and functionality. The Node and Edge classes now have a __hash__ method, allowing them to be used in sets and simplifying duplicate handling.\n",
    "\n",
    "The KnowledgeGraph class has been enhanced with two new methods: ``update`` and ``draw``.\n",
    "\n",
    "In the KnowledgeGraph class, the nodes and edges fields are now optional, offering greater flexibility.\n",
    "\n",
    "The ``update`` method enables the merging and removal of duplicates from two graphs.\n",
    "\n",
    "The ``draw`` method includes a prefix parameter, making it easier to create different graph versions during iterations."
   ]
  },
  {
   "cell_type": "code",
   "execution_count": 24,
   "metadata": {},
   "outputs": [],
   "source": [
    "class Node(BaseModel):\n",
    "    id: int\n",
    "    label: str\n",
    "    color: str\n",
    "\n",
    "    def __hash__(self) -> int:\n",
    "        return hash((id, self.label))\n",
    "    \n",
    "class Edge(BaseModel):\n",
    "    source: int\n",
    "    target: int\n",
    "    label: str\n",
    "    color: str = \"black\"\n",
    "\n",
    "    def __hash__(self) -> int:\n",
    "        return hash((self.source, self.target, self.label))"
   ]
  },
  {
   "cell_type": "code",
   "execution_count": 25,
   "metadata": {},
   "outputs": [],
   "source": [
    "class KnowledgeGraph(BaseModel):\n",
    "    # Optional list of nodes and edges in the knowledge graph\n",
    "    nodes: Optional[List[Node]] = Field(..., default_factory=list)\n",
    "    edges: Optional[List[Edge]] = Field(..., default_factory=list)\n",
    "\n",
    "    def update(self, other: \"KnowledgeGraph\") -> \"KnowledgeGraph\":\n",
    "        # This method updates the current graph with the other graph, deduplicating nodes and edges.\n",
    "        return KnowledgeGraph(\n",
    "            nodes=list(set(self.nodes + other.nodes)),  # Combine and deduplicate nodes\n",
    "            edges=list(set(self.edges + other.edges)),  # Combine and deduplicate edges\n",
    "        )\n",
    "    \n",
    "\n",
    "    def visualize_knowledge_graph(self):\n",
    "        dot = Digraph(comment=\"Knowledge Graph\")\n",
    "\n",
    "        for node in self.nodes:\n",
    "            dot.node(str(node.id), node.label, color=node.color)\n",
    "        for edge in self.edges:\n",
    "            dot.edge(str(edge.source), str(edge.target), label=edge.label, color=edge.color)\n",
    "        \n",
    "        return display(dot)\n"
   ]
  },
  {
   "cell_type": "markdown",
   "metadata": {},
   "source": []
  },
  {
   "cell_type": "markdown",
   "metadata": {},
   "source": [
    "### Generate iterative graphs\n",
    "\n",
    "The updated `generate_graph` function is specifically designed to handle a list of inputs iteratively. It updates the graph with each new piece of information.\n",
    "\n",
    "Upon closer inspection, this pattern resembles a common programming technique known as a \"reduce\" or \"fold\" function. A simple example of this would be iterating over a list to find the sum of all the elements squared.\n",
    "\n",
    "Here's an example in Python:\n",
    "\n",
    "```python\n",
    "cur_state = 0\n",
    "for i in [1, 2, 3, 4, 5]:\n",
    "    cur_state += i**2\n",
    "print(cur_state)\n",
    "```"
   ]
  },
  {
   "cell_type": "code",
   "execution_count": 16,
   "metadata": {},
   "outputs": [],
   "source": [
    "def generate_graph(input: List[str]) -> KnowledgeGraph:\n",
    "    # Initialize an empty KnowledgeGraph\n",
    "    cur_state = KnowledgeGraph()\n",
    "\n",
    "    # Iterate over the input list\n",
    "    for i, inp in enumerate(input):\n",
    "        new_updates = client.chat.completions.create(\n",
    "            model=\"gpt-3.5-turbo-16k\",\n",
    "            messages=[\n",
    "                {\n",
    "                    \"role\": \"system\",\n",
    "                    \"content\": \"\"\"You are an iterative knowledge graph builder.\n",
    "                    You are given the current state of the graph, and you must append the nodes and edges \n",
    "                    to it Do not procide any duplcates and try to reuse nodes as much as possible.\"\"\",\n",
    "                },\n",
    "                {\n",
    "                    \"role\": \"user\",\n",
    "                    \"content\": f\"\"\"Extract any new nodes and edges from the following:\n",
    "                    # Part {i}/{len(input)} of the input:\n",
    "\n",
    "                    {inp}\"\"\",\n",
    "                },\n",
    "                {\n",
    "                    \"role\": \"user\",\n",
    "                    \"content\": f\"\"\"Here is the current state of the graph:\n",
    "                    {cur_state.model_dump_json(indent=2)}\"\"\",\n",
    "                },\n",
    "            ],\n",
    "            response_model=KnowledgeGraph,\n",
    "        )  # type: ignore\n",
    "\n",
    "        # Update the current state with the new updates\n",
    "        cur_state = cur_state.update(new_updates)\n",
    "\n",
    "        # Draw the current state of the graph\n",
    "        cur_state.visualize_knowledge_graph() \n",
    "        \n",
    "    # Return the final state of the KnowledgeGraph\n",
    "    return cur_state\n"
   ]
  },
  {
   "cell_type": "markdown",
   "metadata": {},
   "source": [
    "### Examples Use Case"
   ]
  },
  {
   "cell_type": "markdown",
   "metadata": {},
   "source": [
    "In this approach, we process the text in manageable chunks, one at a time.\n",
    "\n",
    "This method is particularly beneficial when dealing with extensive text that may not fit into a single prompt.\n",
    "\n",
    "It is especially useful in scenarios such as constructing a knowledge graph for a complex topic, where the information is distributed across multiple documents or sections."
   ]
  },
  {
   "cell_type": "code",
   "execution_count": 18,
   "metadata": {},
   "outputs": [],
   "source": [
    "text_chunks = [\n",
    "    \"Jason knows a lot about quantum mechanics. He is a physicist. He is a professor\",\n",
    "    \"Professors are smart.\",\n",
    "    \"Sarah knows Jason and is a student of his.\",\n",
    "    \"Sarah is a student at the University of Toronto. and UofT is in Canada.\",\n",
    "]\n",
    "\n",
    "graph: KnowledgeGraph = generate_graph(text_chunks)"
   ]
  },
  {
   "cell_type": "markdown",
   "metadata": {},
   "source": [
    "## Conclusion"
   ]
  },
  {
   "cell_type": "markdown",
   "metadata": {},
   "source": [
    "This tutorial shows how to generate and visualize a knowledge graph for complex topics. It also demonstrates how to extract graphic knowledge from the language model or provided text. The tutorial highlights the iterative process of building the knowledge graph by processing text in smaller chunks and updating the graph with new information.\n",
    "\n",
    "Using this approach, we can extract various things, including:\n",
    "\n",
    "1) People and their relationships in a story.\n",
    "\n",
    "```python\n",
    "class People(BaseModel):\n",
    "    id: str\n",
    "    name: str\n",
    "    description: str\n",
    "\n",
    "class Relationship(BaseModel):\n",
    "    id: str\n",
    "    source: str\n",
    "    target: str\n",
    "    label: str\n",
    "    description: str\n",
    "\n",
    "class Story(BaseModel):\n",
    "    people: List[People]\n",
    "    relationships: List[Relationship]\n",
    "```\n",
    "\n",
    "2) Task dependencies and action items from a transcript.\n",
    "\n",
    "```python\n",
    "class Task(BaseModel):\n",
    "    id: str\n",
    "    name: str\n",
    "    description: str\n",
    "\n",
    "class Participant(BaseModel):\n",
    "    id: str\n",
    "    name: str\n",
    "    description: str\n",
    "\n",
    "class Assignment(BaseModel):\n",
    "    id: str\n",
    "    source: str\n",
    "    target: str\n",
    "    label: str\n",
    "    description: str\n",
    "\n",
    "class Transcript(BaseModel):\n",
    "    tasks: List[Task]\n",
    "    participants: List[Participant]\n",
    "    assignments: List[Assignment]\n",
    "```\n",
    "\n",
    "3) Key concepts and their relationships from a research paper.\n",
    "4) Entities and their relationships from a news article.\n",
    "\n",
    "As an excercise, try to implement one of the above examples.\n",
    "\n",
    "All of them will follow an idea of iteratively extracting more and more information and accumulating it some state."
   ]
  }
 ],
 "metadata": {
  "kernelspec": {
   "display_name": "Python 3",
   "language": "python",
   "name": "python3"
  },
  "language_info": {
   "codemirror_mode": {
    "name": "ipython",
    "version": 3
   },
   "file_extension": ".py",
   "mimetype": "text/x-python",
   "name": "python",
   "nbconvert_exporter": "python",
   "pygments_lexer": "ipython3",
   "version": "3.11.6"
  }
 },
 "nbformat": 4,
 "nbformat_minor": 2
}
